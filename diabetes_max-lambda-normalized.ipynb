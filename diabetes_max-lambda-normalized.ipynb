{
 "cells": [
  {
   "cell_type": "code",
   "execution_count": 1,
   "id": "f236be50",
   "metadata": {},
   "outputs": [
    {
     "name": "stderr",
     "output_type": "stream",
     "text": [
      "C:\\ProgramData\\Anaconda3\\lib\\site-packages\\scipy\\__init__.py:146: UserWarning: A NumPy version >=1.16.5 and <1.23.0 is required for this version of SciPy (detected version 1.23.5\n",
      "  warnings.warn(f\"A NumPy version >={np_minversion} and <{np_maxversion}\"\n"
     ]
    }
   ],
   "source": [
    "import pandas as pd\n",
    "import numpy as np\n",
    "import seaborn as sns\n",
    "import matplotlib.pyplot as plt\n",
    "from sklearn.cluster import KMeans\n",
    "from sklearn.preprocessing import StandardScaler\n",
    "from sklearn.metrics import accuracy_score\n",
    "from sklearn.metrics import silhouette_score"
   ]
  },
  {
   "cell_type": "code",
   "execution_count": 24,
   "id": "4719828d",
   "metadata": {},
   "outputs": [
    {
     "data": {
      "text/html": [
       "<div>\n",
       "<style scoped>\n",
       "    .dataframe tbody tr th:only-of-type {\n",
       "        vertical-align: middle;\n",
       "    }\n",
       "\n",
       "    .dataframe tbody tr th {\n",
       "        vertical-align: top;\n",
       "    }\n",
       "\n",
       "    .dataframe thead th {\n",
       "        text-align: right;\n",
       "    }\n",
       "</style>\n",
       "<table border=\"1\" class=\"dataframe\">\n",
       "  <thead>\n",
       "    <tr style=\"text-align: right;\">\n",
       "      <th></th>\n",
       "      <th>Pregnancies</th>\n",
       "      <th>Glucose</th>\n",
       "      <th>BloodPressure</th>\n",
       "      <th>SkinThickness</th>\n",
       "      <th>Insulin</th>\n",
       "      <th>BMI</th>\n",
       "      <th>DiabetesPedigreeFunction</th>\n",
       "      <th>Age</th>\n",
       "      <th>Outcome</th>\n",
       "    </tr>\n",
       "  </thead>\n",
       "  <tbody>\n",
       "    <tr>\n",
       "      <th>0</th>\n",
       "      <td>6</td>\n",
       "      <td>148</td>\n",
       "      <td>72</td>\n",
       "      <td>35</td>\n",
       "      <td>0</td>\n",
       "      <td>33.6</td>\n",
       "      <td>0.627</td>\n",
       "      <td>50</td>\n",
       "      <td>1</td>\n",
       "    </tr>\n",
       "    <tr>\n",
       "      <th>1</th>\n",
       "      <td>1</td>\n",
       "      <td>85</td>\n",
       "      <td>66</td>\n",
       "      <td>29</td>\n",
       "      <td>0</td>\n",
       "      <td>26.6</td>\n",
       "      <td>0.351</td>\n",
       "      <td>31</td>\n",
       "      <td>0</td>\n",
       "    </tr>\n",
       "    <tr>\n",
       "      <th>2</th>\n",
       "      <td>8</td>\n",
       "      <td>183</td>\n",
       "      <td>64</td>\n",
       "      <td>0</td>\n",
       "      <td>0</td>\n",
       "      <td>23.3</td>\n",
       "      <td>0.672</td>\n",
       "      <td>32</td>\n",
       "      <td>1</td>\n",
       "    </tr>\n",
       "    <tr>\n",
       "      <th>3</th>\n",
       "      <td>1</td>\n",
       "      <td>89</td>\n",
       "      <td>66</td>\n",
       "      <td>23</td>\n",
       "      <td>94</td>\n",
       "      <td>28.1</td>\n",
       "      <td>0.167</td>\n",
       "      <td>21</td>\n",
       "      <td>0</td>\n",
       "    </tr>\n",
       "    <tr>\n",
       "      <th>4</th>\n",
       "      <td>0</td>\n",
       "      <td>137</td>\n",
       "      <td>40</td>\n",
       "      <td>35</td>\n",
       "      <td>168</td>\n",
       "      <td>43.1</td>\n",
       "      <td>2.288</td>\n",
       "      <td>33</td>\n",
       "      <td>1</td>\n",
       "    </tr>\n",
       "  </tbody>\n",
       "</table>\n",
       "</div>"
      ],
      "text/plain": [
       "   Pregnancies  Glucose  BloodPressure  SkinThickness  Insulin   BMI  \\\n",
       "0            6      148             72             35        0  33.6   \n",
       "1            1       85             66             29        0  26.6   \n",
       "2            8      183             64              0        0  23.3   \n",
       "3            1       89             66             23       94  28.1   \n",
       "4            0      137             40             35      168  43.1   \n",
       "\n",
       "   DiabetesPedigreeFunction  Age  Outcome  \n",
       "0                     0.627   50        1  \n",
       "1                     0.351   31        0  \n",
       "2                     0.672   32        1  \n",
       "3                     0.167   21        0  \n",
       "4                     2.288   33        1  "
      ]
     },
     "execution_count": 24,
     "metadata": {},
     "output_type": "execute_result"
    }
   ],
   "source": [
    "df = pd.read_csv(\"./dataset/diabetes.csv\")\n",
    "df.head()"
   ]
  },
  {
   "cell_type": "code",
   "execution_count": 25,
   "id": "dc1079b8",
   "metadata": {},
   "outputs": [
    {
     "name": "stdout",
     "output_type": "stream",
     "text": [
      "[[148  72  35]\n",
      " [ 85  66  29]\n",
      " [183  64   0]\n",
      " ...\n",
      " [121  72  23]\n",
      " [126  60   0]\n",
      " [ 93  70  31]]\n"
     ]
    }
   ],
   "source": [
    "X = df.iloc[:, [1,2,3]].values\n",
    "print(X)"
   ]
  },
  {
   "cell_type": "code",
   "execution_count": 26,
   "id": "6fd5c50a",
   "metadata": {},
   "outputs": [
    {
     "data": {
      "text/plain": [
       "768"
      ]
     },
     "execution_count": 26,
     "metadata": {},
     "output_type": "execute_result"
    }
   ],
   "source": [
    "len(X)"
   ]
  },
  {
   "cell_type": "code",
   "execution_count": 27,
   "id": "841e3f8c",
   "metadata": {},
   "outputs": [
    {
     "name": "stdout",
     "output_type": "stream",
     "text": [
      "[[ 0.84832379  0.14964075  0.90726993]\n",
      " [-1.12339636 -0.16054575  0.53090156]\n",
      " [ 1.94372388 -0.26394125 -1.28821221]\n",
      " ...\n",
      " [ 0.00330087  0.14964075  0.15453319]\n",
      " [ 0.1597866  -0.47073225 -1.28821221]\n",
      " [-0.8730192   0.04624525  0.65635768]]\n"
     ]
    }
   ],
   "source": [
    "scaler = StandardScaler()\n",
    "X = scaler.fit_transform(X)\n",
    "print(X)"
   ]
  },
  {
   "cell_type": "code",
   "execution_count": 28,
   "id": "277a775a",
   "metadata": {},
   "outputs": [
    {
     "name": "stderr",
     "output_type": "stream",
     "text": [
      "C:\\ProgramData\\Anaconda3\\lib\\site-packages\\sklearn\\cluster\\_kmeans.py:1036: UserWarning: KMeans is known to have a memory leak on Windows with MKL, when there are less chunks than available threads. You can avoid it by setting the environment variable OMP_NUM_THREADS=3.\n",
      "  warnings.warn(\n"
     ]
    },
    {
     "data": {
      "image/png": "[encoded data removed]",
      "text/plain": [
       "<Figure size 720x432 with 1 Axes>"
      ]
     },
     "metadata": {
      "needs_background": "light"
     },
     "output_type": "display_data"
    }
   ],
   "source": [
    "clustering_score = []\n",
    "for i in range(1, 11):\n",
    "    kmeans = KMeans(n_clusters = i, init = 'random', random_state = 42)\n",
    "    #kmeans = KMeans(n_clusters=i, init ='k-means++',random_state=0 )\n",
    "    kmeans.fit(X)\n",
    "    clustering_score.append(kmeans.inertia_) # inertia_ = Sum of squared distances of samples to their closest cluster center.\n",
    "\n",
    "plt.figure(figsize=(10,6))\n",
    "plt.plot(range(1, 11), clustering_score)\n",
    "plt.scatter(4,clustering_score[3], s = 200, c = 'red', marker='*')\n",
    "plt.title('The Elbow Method')\n",
    "plt.xlabel('No. of Clusters')\n",
    "plt.ylabel('Clustering Score')\n",
    "plt.show()"
   ]
  },
  {
   "cell_type": "code",
   "execution_count": 29,
   "id": "99da470e",
   "metadata": {},
   "outputs": [
    {
     "data": {
      "text/plain": [
       "array([1, 2, 3, 2, 2, 3, 2, 0, 1, 3, 3, 3, 3, 1, 1, 0, 1, 3, 2, 2, 1, 3,\n",
       "       3, 2, 1, 2, 3, 2, 1, 3, 2, 1, 2, 3, 2, 2, 3, 2, 2, 2, 1, 3, 2, 1,\n",
       "       3, 1, 3, 2, 2, 0, 3, 2, 2, 1, 1, 2, 1, 2, 3, 2, 0, 3, 2, 1, 3, 2,\n",
       "       2, 3, 2, 1, 2, 1, 3, 3, 2, 2, 3, 2, 0, 2, 2, 0, 2, 2, 3, 2, 2, 2,\n",
       "       1, 2, 3, 3, 2, 3, 1, 1, 2, 2, 2, 1, 3, 3, 3, 2, 3, 2, 3, 1, 2, 2,\n",
       "       1, 1, 2, 3, 1, 3, 3, 3, 2, 2, 1, 2, 2, 3, 3, 2, 2, 2, 2, 3, 1, 3,\n",
       "       1, 2, 2, 2, 2, 2, 3, 2, 3, 2, 2, 3, 1, 2, 2, 2, 3, 2, 1, 3, 1, 1,\n",
       "       3, 1, 2, 2, 2, 1, 1, 2, 2, 2, 3, 2, 1, 3, 3, 3, 3, 1, 0, 2, 2, 1,\n",
       "       3, 1, 3, 3, 3, 2, 2, 3, 3, 1, 1, 1, 2, 1, 3, 2, 3, 0, 2, 1, 3, 2,\n",
       "       2, 1, 3, 3, 2, 2, 2, 2, 1, 3, 2, 1, 2, 1, 1, 1, 2, 1, 2, 2, 2, 3,\n",
       "       1, 3, 0, 1, 2, 2, 3, 1, 1, 2, 3, 1, 2, 3, 2, 3, 1, 1, 1, 3, 2, 2,\n",
       "       3, 2, 1, 1, 3, 1, 2, 2, 3, 3, 2, 2, 3, 2, 2, 2, 1, 1, 1, 0, 2, 3,\n",
       "       3, 2, 0, 1, 3, 0, 2, 2, 3, 2, 3, 2, 2, 2, 3, 3, 3, 1, 3, 3, 3, 1,\n",
       "       1, 1, 2, 2, 2, 2, 1, 2, 3, 1, 1, 1, 2, 3, 0, 1, 2, 3, 3, 2, 1, 3,\n",
       "       2, 2, 2, 2, 1, 3, 2, 2, 3, 3, 2, 3, 3, 2, 2, 1, 2, 1, 2, 3, 2, 2,\n",
       "       2, 2, 0, 3, 2, 1, 0, 3, 1, 3, 3, 2, 2, 3, 3, 1, 2, 0, 2, 2, 3, 3,\n",
       "       2, 2, 3, 3, 2, 0, 2, 1, 1, 3, 2, 3, 1, 2, 3, 2, 2, 1, 1, 2, 2, 2,\n",
       "       2, 1, 2, 2, 3, 2, 2, 2, 3, 2, 2, 3, 2, 2, 1, 2, 2, 3, 3, 3, 3, 2,\n",
       "       2, 1, 3, 1, 3, 3, 1, 2, 3, 2, 3, 3, 3, 1, 2, 2, 1, 1, 1, 1, 2, 1,\n",
       "       3, 2, 1, 2, 2, 2, 1, 1, 0, 1, 1, 2, 0, 2, 2, 3, 3, 0, 1, 3, 2, 3,\n",
       "       1, 2, 2, 3, 3, 1, 3, 2, 2, 2, 2, 3, 2, 0, 2, 1, 3, 2, 1, 1, 2, 3,\n",
       "       2, 2, 3, 3, 2, 2, 0, 1, 1, 1, 2, 3, 3, 1, 2, 2, 1, 1, 1, 1, 2, 2,\n",
       "       0, 1, 1, 1, 2, 3, 2, 2, 2, 2, 0, 3, 3, 2, 1, 1, 3, 2, 2, 2, 2, 3,\n",
       "       1, 2, 2, 3, 2, 3, 3, 3, 2, 1, 1, 3, 3, 3, 2, 1, 0, 3, 3, 2, 2, 3,\n",
       "       2, 3, 2, 3, 2, 0, 2, 0, 3, 3, 1, 1, 2, 2, 2, 2, 2, 1, 1, 2, 1, 1,\n",
       "       2, 2, 3, 2, 2, 2, 2, 3, 2, 3, 3, 1, 2, 2, 3, 2, 2, 2, 1, 2, 3, 3,\n",
       "       2, 2, 1, 2, 2, 3, 3, 1, 1, 2, 3, 3, 2, 2, 3, 3, 1, 0, 2, 2, 3, 2,\n",
       "       1, 1, 3, 0, 3, 2, 2, 0, 2, 1, 0, 2, 1, 2, 1, 3, 2, 1, 1, 2, 1, 3,\n",
       "       3, 2, 2, 0, 2, 2, 3, 2, 3, 2, 3, 3, 3, 2, 3, 2, 3, 3, 3, 3, 3, 2,\n",
       "       2, 3, 2, 3, 3, 0, 2, 1, 1, 1, 1, 2, 2, 2, 2, 3, 2, 1, 2, 1, 3, 2,\n",
       "       3, 1, 1, 1, 2, 2, 1, 2, 2, 1, 1, 2, 2, 1, 3, 3, 3, 3, 3, 2, 2, 1,\n",
       "       2, 3, 3, 2, 3, 2, 1, 1, 3, 3, 2, 1, 3, 1, 1, 0, 3, 3, 2, 2, 1, 0,\n",
       "       2, 2, 0, 2, 3, 2, 3, 2, 2, 2, 3, 1, 1, 2, 2, 2, 2, 2, 1, 2, 3, 2,\n",
       "       2, 1, 3, 3, 1, 3, 1, 2, 3, 2, 1, 2, 2, 3, 2, 2, 2, 3, 1, 2, 1, 2,\n",
       "       1, 3, 3, 2, 2, 1, 1, 1, 1, 3, 3, 3, 2, 1, 3, 2, 2, 2, 3, 2])"
      ]
     },
     "execution_count": 29,
     "metadata": {},
     "output_type": "execute_result"
    }
   ],
   "source": [
    "kmeans= KMeans(n_clusters = 4, random_state = 42)\n",
    "\n",
    "# Compute k-means clustering\n",
    "kmeans.fit(X)\n",
    "\n",
    "# Compute cluster centers and predict cluster index for each sample.\n",
    "pred = kmeans.predict(X)\n",
    "\n",
    "pred"
   ]
  },
  {
   "cell_type": "code",
   "execution_count": 30,
   "id": "f0af51c1",
   "metadata": {},
   "outputs": [
    {
     "name": "stdout",
     "output_type": "stream",
     "text": [
      "Silhouette Score: 0.3507693374884157\n"
     ]
    }
   ],
   "source": [
    "score = silhouette_score(X, pred)\n",
    "print(\"Silhouette Score:\", score)"
   ]
  },
  {
   "cell_type": "code",
   "execution_count": 31,
   "id": "87446843",
   "metadata": {},
   "outputs": [
    {
     "data": {
      "text/plain": [
       "768"
      ]
     },
     "execution_count": 31,
     "metadata": {},
     "output_type": "execute_result"
    }
   ],
   "source": [
    "len(pred)"
   ]
  },
  {
   "cell_type": "code",
   "execution_count": 32,
   "id": "5da38da3",
   "metadata": {},
   "outputs": [
    {
     "name": "stdout",
     "output_type": "stream",
     "text": [
      "Number of data points in each cluster= \n",
      " 2    325\n",
      "3    225\n",
      "1    182\n",
      "0     36\n",
      "Name: Cluster, dtype: int64\n"
     ]
    }
   ],
   "source": [
    "df['Cluster'] = pd.DataFrame(pred, columns=['cluster'] )\n",
    "print('Number of data points in each cluster= \\n', df['Cluster'].value_counts())"
   ]
  },
  {
   "cell_type": "code",
   "execution_count": 33,
   "id": "28c5b113",
   "metadata": {
    "scrolled": true
   },
   "outputs": [
    {
     "data": {
      "text/plain": [
       "Text(0.5, 1.0, 'Clusters')"
      ]
     },
     "execution_count": 33,
     "metadata": {},
     "output_type": "execute_result"
    },
    {
     "data": {
      "image/png": "[encoded data removed]",
      "text/plain": [
       "<Figure size 720x432 with 1 Axes>"
      ]
     },
     "metadata": {
      "needs_background": "light"
     },
     "output_type": "display_data"
    }
   ],
   "source": [
    "plt.figure(figsize=(10,6))\n",
    "plt.scatter(X[pred == 0, 0], X[pred == 0, 1],c = 'black', label = 'Cluster 0')\n",
    "plt.scatter(X[pred == 1, 0], X[pred == 1, 1],c = 'green', label = 'Cluster 1')\n",
    "plt.scatter(X[pred == 2, 0], X[pred == 2, 1],c = 'blue', label = 'Cluster 2')\n",
    "plt.scatter(X[pred == 3, 0], X[pred == 3, 1], c = 'purple', label = 'Cluster 3')\n",
    "#plt.scatter(X[pred == 4, 0], X[pred == 4, 1], c = 'orange', label = 'Cluster 4')\n",
    "\n",
    "plt.scatter(kmeans.cluster_centers_[:,0], kmeans.cluster_centers_[:, 1],s = 300, c = 'red', label = 'Centroid', marker='*')\n",
    "\n",
    "#plt.xlabel('SepalLengthCm')\n",
    "#plt.ylabel('SepalWidthCm')\n",
    "plt.legend()\n",
    "plt.title('Clusters')"
   ]
  },
  {
   "cell_type": "code",
   "execution_count": 14,
   "id": "2ea785df",
   "metadata": {},
   "outputs": [
    {
     "data": {
      "text/plain": [
       "array([ 0.11643489, -1.16250293,  0.96931639])"
      ]
     },
     "execution_count": 14,
     "metadata": {},
     "output_type": "execute_result"
    }
   ],
   "source": [
    "kmeans.cluster_centers_[:,0]"
   ]
  },
  {
   "cell_type": "code",
   "execution_count": 15,
   "id": "2b737814",
   "metadata": {},
   "outputs": [
    {
     "data": {
      "text/plain": [
       "array([-0.128236  , -1.00206653,  1.04257713])"
      ]
     },
     "execution_count": 15,
     "metadata": {},
     "output_type": "execute_result"
    }
   ],
   "source": [
    "kmeans.cluster_centers_[:,1]"
   ]
  },
  {
   "cell_type": "code",
   "execution_count": 16,
   "id": "597ccb60",
   "metadata": {},
   "outputs": [
    {
     "data": {
      "text/plain": [
       "array([-0.88183813,  0.89510445, -0.02890354])"
      ]
     },
     "execution_count": 16,
     "metadata": {},
     "output_type": "execute_result"
    }
   ],
   "source": [
    "kmeans.cluster_centers_[:,2]"
   ]
  },
  {
   "cell_type": "code",
   "execution_count": 17,
   "id": "a8050d85",
   "metadata": {},
   "outputs": [
    {
     "data": {
      "text/plain": [
       "array([ 0.25333671, -1.30297509,  0.97520033])"
      ]
     },
     "execution_count": 17,
     "metadata": {},
     "output_type": "execute_result"
    }
   ],
   "source": [
    "kmeans.cluster_centers_[:,3]"
   ]
  },
  {
   "cell_type": "code",
   "execution_count": 18,
   "id": "695d8e10",
   "metadata": {},
   "outputs": [],
   "source": [
    "distance = []\n",
    "max0 = max1 = max2 = max3 = max4 = 0\n",
    "for i in range(0, len(X)):\n",
    "    if pred[i]==0:\n",
    "        d = np.sqrt((X[:, 0][i] - kmeans.cluster_centers_[:,0][0])**2+(X[:, 1][i] - kmeans.cluster_centers_[:,1][0])**2+(X[:, 2][i] - kmeans.cluster_centers_[:,2][0])**2+(X[:, 3][i] - kmeans.cluster_centers_[:,3][0])**2)\n",
    "        if d>max0:\n",
    "            max0=d\n",
    "    if pred[i]==1:\n",
    "        d = np.sqrt((X[:, 0][i] - kmeans.cluster_centers_[:,0][1])**2+(X[:, 1][i] - kmeans.cluster_centers_[:,1][1])**2+(X[:, 2][i] - kmeans.cluster_centers_[:,2][1])**2+(X[:, 3][i] - kmeans.cluster_centers_[:,3][1])**2)\n",
    "        if d>max1:\n",
    "            max1=d\n",
    "    if pred[i]==2:\n",
    "        d = np.sqrt((X[:, 0][i] - kmeans.cluster_centers_[:,0][2])**2+(X[:, 1][i] - kmeans.cluster_centers_[:,1][2])**2+(X[:, 2][i] - kmeans.cluster_centers_[:,2][2])**2+(X[:, 3][i] - kmeans.cluster_centers_[:,3][2])**2)\n",
    "        if d>max2:\n",
    "            max2=d\n",
    "#    if pred[i]==3:\n",
    "#        d = np.sqrt((X[:, 0][i] - kmeans.cluster_centers_[:,0][3])**2+(X[:, 1][i] - kmeans.cluster_centers_[:,1][3])**2)\n",
    "#        if d>max3:\n",
    "#            max3=d\n",
    "#    if pred[i]==4:\n",
    "#        d = np.sqrt((X[:, 0][i] - kmeans.cluster_centers_[:,0][4])**2+(X[:, 1][i] - kmeans.cluster_centers_[:,1][4])**2)\n",
    "#        if d>max4:\n",
    "#            max4=d\n",
    "    distance.append(d) "
   ]
  },
  {
   "cell_type": "code",
   "execution_count": 19,
   "id": "5d268d0d",
   "metadata": {},
   "outputs": [
    {
     "data": {
      "text/plain": [
       "[0.5847301827108115,\n",
       " 1.1610452146750287,\n",
       " 0.8535157405458527,\n",
       " 1.0562593163471443,\n",
       " 0.5953017414435751,\n",
       " 1.2484124709066953,\n",
       " 0.6639413243119922,\n",
       " 0.40837733532735504,\n",
       " 1.5048808624445598,\n",
       " 0.8745438005404516,\n",
       " 0.8265394404872873,\n",
       " 0.419204867705454,\n",
       " 1.0906909585317839,\n",
       " 1.3798478236019889,\n",
       " 1.629178146903789,\n",
       " 2.378633136333293,\n",
       " 1.178882389306834,\n",
       " 0.2405609105736093,\n",
       " 1.1894651098382087,\n",
       " 0.8459742486236096,\n",
       " 0.501787197384403,\n",
       " 0.6129202101400881,\n",
       " 0.680649826013843,\n",
       " 0.3669935132643647,\n",
       " 0.3717154668667156,\n",
       " 1.0232212145377493,\n",
       " 0.1296218320169135,\n",
       " 0.2700421203679147,\n",
       " 0.2603243421944201,\n",
       " 0.6896450483307202,\n",
       " 0.8453103328462219,\n",
       " 0.5003168897426068,\n",
       " 1.552219668106262,\n",
       " 1.8635533980340497,\n",
       " 0.8329485544123317,\n",
       " 0.6298199342439398,\n",
       " 0.6678341310592747,\n",
       " 0.8544486279029682,\n",
       " 1.307436989996605,\n",
       " 0.3700699994680835,\n",
       " 0.40245560004807707,\n",
       " 2.551993923294195,\n",
       " 1.0232166685845172,\n",
       " 0.46269301964187887,\n",
       " 0.9856540743278375,\n",
       " 1.1585623043796653,\n",
       " 0.9803706328723238,\n",
       " 0.919037195423331,\n",
       " 0.8838821070933776,\n",
       " 0.6610951074111323,\n",
       " 1.6773447742569139,\n",
       " 1.6108412240483425,\n",
       " 1.5486095122454064,\n",
       " 1.1030356581404135,\n",
       " 1.1570207908039116,\n",
       " 0.661877983976176,\n",
       " 1.655614313726732,\n",
       " 1.4014256500573006,\n",
       " 1.2909189989155028,\n",
       " 0.8264760425021075,\n",
       " 1.8940110741035447,\n",
       " 0.8916317199342261,\n",
       " 1.2150520605176418,\n",
       " 0.8333633395102643,\n",
       " 0.7421246616836853,\n",
       " 1.3431657750216557,\n",
       " 0.8524854683321427,\n",
       " 0.3115527180403829,\n",
       " 1.2692461682518081,\n",
       " 0.5263578588735177,\n",
       " 1.2999094980917192,\n",
       " 0.5760200783031867,\n",
       " 0.9008611006194337,\n",
       " 0.6178438887648908,\n",
       " 0.9694652495363929,\n",
       " 1.1467654131763023,\n",
       " 1.1602820063608223,\n",
       " 0.9553805524075906,\n",
       " 0.6378562907287013,\n",
       " 0.4370755166980076,\n",
       " 0.7311551811997598,\n",
       " 0.7516535218797172,\n",
       " 0.20688997513266535,\n",
       " 0.6090838937320875,\n",
       " 0.8826116359159514,\n",
       " 1.5000433549875354,\n",
       " 0.8408871625082447,\n",
       " 1.1186031061144242,\n",
       " 0.8014316032780721,\n",
       " 0.5514659621426369,\n",
       " 0.4266407237306053,\n",
       " 0.9415346716774327,\n",
       " 0.36120224732834605,\n",
       " 1.3799190519979811,\n",
       " 0.3783987554158571,\n",
       " 0.8380867471589163,\n",
       " 0.6501314545707844,\n",
       " 0.8693157977908303,\n",
       " 1.186335715441648,\n",
       " 0.5422144513578478,\n",
       " 0.9118485142045564,\n",
       " 0.7174699142169274,\n",
       " 0.6404849649250972,\n",
       " 0.6697406601152386,\n",
       " 0.4331330277684056,\n",
       " 1.2918881099595287,\n",
       " 1.2615710031421354,\n",
       " 0.947543808943722,\n",
       " 1.2817704673045516,\n",
       " 1.4793210281733942,\n",
       " 0.5127772881061128,\n",
       " 0.8864015014143323,\n",
       " 0.18360713290391426,\n",
       " 0.9818610424011808,\n",
       " 0.9924824105902227,\n",
       " 0.5299865829320599,\n",
       " 0.2655829528962801,\n",
       " 2.2414850461598803,\n",
       " 1.777667689796739,\n",
       " 1.5277354254274293,\n",
       " 0.4628771811710209,\n",
       " 1.0897425934566252,\n",
       " 1.5073522573211107,\n",
       " 0.9964913316260874,\n",
       " 0.6360939507188971,\n",
       " 0.7902096022457203,\n",
       " 0.9381196031338643,\n",
       " 0.8425817528064024,\n",
       " 0.7237791218592411,\n",
       " 0.6992262400425776,\n",
       " 1.1173592666244903,\n",
       " 2.3604259639907643,\n",
       " 0.762613622640727,\n",
       " 0.8616963067924688,\n",
       " 1.3221372929956907,\n",
       " 1.3327872471336173,\n",
       " 1.0658759565945302,\n",
       " 0.6154571536134044,\n",
       " 1.0631637444039344,\n",
       " 0.5893160585471267,\n",
       " 0.5645921237897824,\n",
       " 0.6639803161719824,\n",
       " 1.4887712807221385,\n",
       " 0.7630533076173457,\n",
       " 0.8823657071900868,\n",
       " 0.6837625849631641,\n",
       " 1.5320289323278953,\n",
       " 0.7690711885018809,\n",
       " 1.2620200151933443,\n",
       " 1.251882146592318]"
      ]
     },
     "execution_count": 19,
     "metadata": {},
     "output_type": "execute_result"
    }
   ],
   "source": [
    "distance"
   ]
  },
  {
   "cell_type": "code",
   "execution_count": 20,
   "id": "db6b3ceb",
   "metadata": {},
   "outputs": [
    {
     "data": {
      "text/plain": [
       "150"
      ]
     },
     "execution_count": 20,
     "metadata": {},
     "output_type": "execute_result"
    }
   ],
   "source": [
    "len(distance)"
   ]
  },
  {
   "cell_type": "code",
   "execution_count": 21,
   "id": "e048ca1f",
   "metadata": {},
   "outputs": [
    {
     "data": {
      "text/plain": [
       "2.551993923294195"
      ]
     },
     "execution_count": 21,
     "metadata": {},
     "output_type": "execute_result"
    }
   ],
   "source": [
    "max0"
   ]
  },
  {
   "cell_type": "code",
   "execution_count": 22,
   "id": "f2e42d5b",
   "metadata": {},
   "outputs": [
    {
     "data": {
      "text/plain": [
       "2.378633136333293"
      ]
     },
     "execution_count": 22,
     "metadata": {},
     "output_type": "execute_result"
    }
   ],
   "source": [
    "max1"
   ]
  },
  {
   "cell_type": "code",
   "execution_count": 23,
   "id": "911cfbd8",
   "metadata": {},
   "outputs": [
    {
     "data": {
      "text/plain": [
       "2.3604259639907643"
      ]
     },
     "execution_count": 23,
     "metadata": {},
     "output_type": "execute_result"
    }
   ],
   "source": [
    "max2"
   ]
  },
  {
   "cell_type": "code",
   "execution_count": 24,
   "id": "086692db",
   "metadata": {},
   "outputs": [
    {
     "name": "stdout",
     "output_type": "stream",
     "text": [
      "Enter lambda 0 value: 1.5\n",
      "Enter lambda 1 value: 1.3\n",
      "Enter lambda 2 value: 1.3\n"
     ]
    }
   ],
   "source": [
    "l0 = float(input(\"Enter lambda 0 value: \"))\n",
    "l1 = float(input(\"Enter lambda 1 value: \"))\n",
    "l2 = float(input(\"Enter lambda 2 value: \"))\n",
    "# l3 = float(input(\"Enter lambda 3 value: \"))\n",
    "# l4 = float(input(\"Enter lambda 4 value: \"))"
   ]
  },
  {
   "cell_type": "code",
   "execution_count": 25,
   "id": "7b23f2a9",
   "metadata": {},
   "outputs": [
    {
     "data": {
      "text/plain": [
       "<Figure size 720x432 with 0 Axes>"
      ]
     },
     "metadata": {},
     "output_type": "display_data"
    }
   ],
   "source": [
    "c0=c1=c2=0\n",
    "coordinates =[]\n",
    "plt.figure(figsize=(10,6))\n",
    "for i in range(0, len(X)):\n",
    "    if pred[i]==0:\n",
    "        if distance[i]<=max0-l0:\n",
    "            #plt.scatter(X[pred == 0, 0][c0], X[pred == 0, 1][c0], c = 'black')#, label = 'Cluster 0')\n",
    "            coordinates.append((X[pred == 0, 0][c0],X[pred == 0, 1][c0],X[pred == 0, 2][c0],X[pred == 0, 3][c0]))\n",
    "            c0=c0+1\n",
    "        else:\n",
    "            c0=c0+1\n",
    "    if pred[i]==1:\n",
    "        if distance[i]<=max1-l1:\n",
    "            #plt.scatter(X[pred == 1, 0][c1], X[pred == 1, 1][c1], c = 'green')#, label = 'Cluster 1')\n",
    "            coordinates.append((X[pred == 1, 0][c1],X[pred == 1, 1][c1],X[pred == 1, 2][c1],X[pred == 1, 3][c1]))\n",
    "            c1=c1+1\n",
    "        else:\n",
    "            c1=c1+1\n",
    "    if pred[i]==2:\n",
    "        if distance[i]<=max2-l2:\n",
    "            #plt.scatter(X[pred == 2, 0][c2], X[pred == 2, 1][c2], c = 'blue')#, label = 'Cluster 2')\n",
    "            coordinates.append((X[pred == 2, 0][c2],X[pred == 2, 1][c2],X[pred == 2, 2][c2],X[pred == 2, 3][c2]))\n",
    "            c2=c2+1\n",
    "        else:\n",
    "            c2=c2+1\n",
    "    \n",
    "#plt.scatter(kmeans.cluster_centers_[:,0], kmeans.cluster_centers_[:, 1],s = 300, c = 'red', label = 'Centroid', marker='*')\n",
    "# plt.xlabel('SepalLengthCm')\n",
    "# plt.ylabel('SepalWidthCm')\n",
    "# plt.legend()\n",
    "# plt.title('Clusters')"
   ]
  },
  {
   "cell_type": "code",
   "execution_count": 26,
   "id": "ffd364de",
   "metadata": {},
   "outputs": [
    {
     "data": {
      "text/plain": [
       "[(-1.7205420368774056,\n",
       "  -0.9006811702978088,\n",
       "  1.0320572244889565,\n",
       "  -1.3412724047598314),\n",
       " (-1.6743529889075424,\n",
       "  -1.3853526520724133,\n",
       "  0.3378483290927974,\n",
       "  -1.3981381087490836),\n",
       " (-1.6512584649226107,\n",
       "  -1.5065205225160652,\n",
       "  0.10644536396074403,\n",
       "  -1.284406700770579),\n",
       " (-1.6281639409376791,\n",
       "  -1.0218490407414595,\n",
       "  1.2634601896210098,\n",
       "  -1.3412724047598314),\n",
       " (-1.581974892967816,\n",
       "  -1.5065205225160652,\n",
       "  0.8006542593569032,\n",
       "  -1.3412724047598314),\n",
       " (-1.5588803689828843,\n",
       "  -1.0218490407414595,\n",
       "  0.8006542593569032,\n",
       "  -1.284406700770579),\n",
       " (-1.512691321013021,\n",
       "  -1.1430169111851105,\n",
       "  0.10644536396074403,\n",
       "  -1.284406700770579),\n",
       " (-1.4895967970280894,\n",
       "  -0.537177558966854,\n",
       "  1.494863154753063,\n",
       "  -1.284406700770579),\n",
       " (-1.4665022730431578,\n",
       "  -1.2641847816287624,\n",
       "  0.8006542593569032,\n",
       "  -1.2275409967813267),\n",
       " (-1.3279351291335681,\n",
       "  -0.9006811702978088,\n",
       "  1.0320572244889565,\n",
       "  -1.3412724047598314),\n",
       " (-1.281746081163705,\n",
       "  -0.9006811702978088,\n",
       "  1.7262661198851155,\n",
       "  -1.284406700770579),\n",
       " (-1.2586515571787733,\n",
       "  -0.537177558966854,\n",
       "  0.8006542593569032,\n",
       "  -1.1706752927920745),\n",
       " (-1.2355570331938417,\n",
       "  -0.9006811702978088,\n",
       "  1.494863154753063,\n",
       "  -1.284406700770579),\n",
       " (-1.21246250920891,\n",
       "  -1.5065205225160652,\n",
       "  1.2634601896210098,\n",
       "  -1.5687352207168408),\n",
       " (-1.1893679852239785,\n",
       "  -0.9006811702978088,\n",
       "  0.5692512942248498,\n",
       "  -1.1706752927920745),\n",
       " (-1.1662734612390466,\n",
       "  -1.2641847816287624,\n",
       "  0.8006542593569032,\n",
       "  -1.05694388481357),\n",
       " (-1.143178937254115,\n",
       "  -1.0218490407414595,\n",
       "  -0.12495760117130933,\n",
       "  -1.2275409967813267),\n",
       " (-1.1200844132691834,\n",
       "  -1.0218490407414595,\n",
       "  0.8006542593569032,\n",
       "  -1.2275409967813267),\n",
       " (-1.0969898892842518,\n",
       "  -0.7795132998541568,\n",
       "  1.0320572244889565,\n",
       "  -1.284406700770579),\n",
       " (-1.0738953652993202,\n",
       "  -0.7795132998541568,\n",
       "  0.8006542593569032,\n",
       "  -1.3412724047598314),\n",
       " (-1.0508008413143886,\n",
       "  -1.3853526520724133,\n",
       "  0.3378483290927974,\n",
       "  -1.2275409967813267),\n",
       " (-1.027706317329457,\n",
       "  -1.2641847816287624,\n",
       "  0.10644536396074403,\n",
       "  -1.2275409967813267),\n",
       " (-1.0046117933445253,\n",
       "  -0.537177558966854,\n",
       "  0.8006542593569032,\n",
       "  -1.284406700770579),\n",
       " (-0.9353282213897306,\n",
       "  -1.1430169111851105,\n",
       "  0.10644536396074403,\n",
       "  -1.284406700770579),\n",
       " (-0.912233697404799,\n",
       "  -1.0218490407414595,\n",
       "  0.3378483290927974,\n",
       "  -1.4550038127383362),\n",
       " (-0.8891391734198674,\n",
       "  -0.4160096885232032,\n",
       "  1.0320572244889565,\n",
       "  -1.3981381087490836),\n",
       " (-0.8660446494349356,\n",
       "  -1.1430169111851105,\n",
       "  0.10644536396074403,\n",
       "  -1.284406700770579),\n",
       " (-0.8198556014650724,\n",
       "  -0.9006811702978088,\n",
       "  0.8006542593569032,\n",
       "  -1.284406700770579),\n",
       " (-0.7967610774801408,\n",
       "  -1.0218490407414595,\n",
       "  1.0320572244889565,\n",
       "  -1.3981381087490836),\n",
       " (-0.7505720295102776,\n",
       "  -1.7488562634033669,\n",
       "  0.3378483290927974,\n",
       "  -1.3981381087490836),\n",
       " (-0.727477505525346,\n",
       "  -1.0218490407414595,\n",
       "  1.0320572244889565,\n",
       "  -1.2275409967813267),\n",
       " (-0.7043829815404143,\n",
       "  -0.9006811702978088,\n",
       "  1.7262661198851155,\n",
       "  -1.05694388481357),\n",
       " (-0.6581939335705511,\n",
       "  -0.9006811702978088,\n",
       "  1.7262661198851155,\n",
       "  -1.2275409967813267),\n",
       " (-0.6350994095856195,\n",
       "  -1.5065205225160652,\n",
       "  0.3378483290927974,\n",
       "  -1.3412724047598314),\n",
       " (-0.6120048856006879,\n",
       "  -0.658345429410506,\n",
       "  1.494863154753063,\n",
       "  -1.284406700770579),\n",
       " (-0.5889103616157563,\n",
       "  -1.0218490407414595,\n",
       "  0.5692512942248498,\n",
       "  -1.3412724047598314),\n",
       " (-0.4503432177061666,\n",
       "  -0.1736739476359004,\n",
       "  -0.587763531435416,\n",
       "  0.4215644189069909),\n",
       " (-0.3579651217664401,\n",
       "  -0.7795132998541568,\n",
       "  -0.8191664965674684,\n",
       "  0.08037019497147688),\n",
       " (-0.31177607379657685,\n",
       "  0.06866179325140237,\n",
       "  -0.12495760117130933,\n",
       "  0.250967306939234),\n",
       " (-0.2655870258267136,\n",
       "  0.31099753413870407,\n",
       "  -0.3563605663033627,\n",
       "  0.5352958268854957),\n",
       " (-0.242492501841782,\n",
       "  -0.29484181807955234,\n",
       "  -0.3563605663033627,\n",
       "  -0.09022691699628003),\n",
       " (-0.19630345387191875,\n",
       "  -0.29484181807955234,\n",
       "  -0.12495760117130933,\n",
       "  0.4215644189069909),\n",
       " (-0.17320892988698713,\n",
       "  -0.05250607719224957,\n",
       "  -0.8191664965674684,\n",
       "  0.19410160294998138),\n",
       " (-0.1270198819171239,\n",
       "  -0.29484181807955234,\n",
       "  -1.281972426831575,\n",
       "  0.08037019497147688),\n",
       " (-0.08083083394726066,\n",
       "  0.31099753413870407,\n",
       "  -0.587763531435416,\n",
       "  0.13723589896072927),\n",
       " (-0.05773630996232905,\n",
       "  0.5533332750260068,\n",
       "  -1.281972426831575,\n",
       "  0.6490272348640005),\n",
       " (-0.03464178597739743,\n",
       "  0.31099753413870407,\n",
       "  -0.587763531435416,\n",
       "  0.5352958268854957),\n",
       " (-0.011547261992465809,\n",
       "  0.6745011454696588,\n",
       "  -0.3563605663033627,\n",
       "  0.30783301092848614),\n",
       " (0.05773630996232905,\n",
       "  1.0380047568006125,\n",
       "  -0.12495760117130933,\n",
       "  0.7058929388532527),\n",
       " (0.08083083394726066,\n",
       "  0.18982966369505322,\n",
       "  -0.3563605663033627,\n",
       "  0.4215644189069909),\n",
       " (0.10392535793219228,\n",
       "  -0.1736739476359004,\n",
       "  -1.0505694616995218,\n",
       "  -0.1470926209855324),\n",
       " (0.1270198819171239,\n",
       "  -0.4160096885232032,\n",
       "  -1.5133753919636286,\n",
       "  0.02350449098222449),\n",
       " (0.15011440590205552,\n",
       "  -0.4160096885232032,\n",
       "  -1.5133753919636286,\n",
       "  -0.03336121300702764),\n",
       " (0.17320892988698713,\n",
       "  -0.05250607719224957,\n",
       "  -0.8191664965674684,\n",
       "  0.08037019497147688),\n",
       " (0.19630345387191875,\n",
       "  0.18982966369505322,\n",
       "  -0.8191664965674684,\n",
       "  0.7627586428425047),\n",
       " (0.21939797785685036,\n",
       "  -0.537177558966854,\n",
       "  -0.12495760117130933,\n",
       "  0.4215644189069909),\n",
       " (0.2655870258267136,\n",
       "  1.0380047568006125,\n",
       "  0.10644536396074403,\n",
       "  0.5352958268854957),\n",
       " (0.31177607379657685,\n",
       "  -0.29484181807955234,\n",
       "  -0.12495760117130933,\n",
       "  0.19410160294998138),\n",
       " (0.33487059778150846,\n",
       "  -0.4160096885232032,\n",
       "  -1.281972426831575,\n",
       "  0.13723589896072927),\n",
       " (0.3579651217664401,\n",
       "  -0.4160096885232032,\n",
       "  -1.0505694616995218,\n",
       "  0.3646987149177388),\n",
       " (0.3810596457513717,\n",
       "  0.31099753413870407,\n",
       "  -0.12495760117130933,\n",
       "  0.4784301228962431),\n",
       " (0.4041541697363033,\n",
       "  -0.05250607719224957,\n",
       "  -1.0505694616995218,\n",
       "  0.13723589896072927),\n",
       " (0.4503432177061666,\n",
       "  -0.29484181807955234,\n",
       "  -0.8191664965674684,\n",
       "  0.250967306939234),\n",
       " (0.4734377416910982,\n",
       "  -0.1736739476359004,\n",
       "  -0.12495760117130933,\n",
       "  0.250967306939234),\n",
       " (0.4965322656760298,\n",
       "  -0.1736739476359004,\n",
       "  -0.3563605663033627,\n",
       "  0.250967306939234),\n",
       " (0.5196267896609614,\n",
       "  0.432165404582356,\n",
       "  -0.3563605663033627,\n",
       "  0.30783301092848614),\n",
       " (0.5658158376308247,\n",
       "  -0.1736739476359004,\n",
       "  -0.587763531435416,\n",
       "  0.19410160294998138),\n",
       " (0.5889103616157563,\n",
       "  0.5533332750260068,\n",
       "  0.5692512942248498,\n",
       "  1.274549978745776),\n",
       " (0.6120048856006879,\n",
       "  -0.05250607719224957,\n",
       "  -0.8191664965674684,\n",
       "  0.7627586428425047),\n",
       " (0.6350994095856195,\n",
       "  1.522676238575217,\n",
       "  -0.12495760117130933,\n",
       "  1.2176842747565237),\n",
       " (0.6581939335705511,\n",
       "  0.5533332750260068,\n",
       "  -0.3563605663033627,\n",
       "  1.0470871627887663),\n",
       " (0.6812884575554827,\n",
       "  0.7956690159133096,\n",
       "  -0.12495760117130933,\n",
       "  1.1608185707672711),\n",
       " (0.7505720295102776,\n",
       "  1.7650119794625196,\n",
       "  -0.3563605663033627,\n",
       "  1.4451470907135329),\n",
       " (0.8198556014650724,\n",
       "  0.7956690159133096,\n",
       "  0.3378483290927974,\n",
       "  0.7627586428425047),\n",
       " (0.842950125450004,\n",
       "  0.6745011454696588,\n",
       "  -0.8191664965674684,\n",
       "  0.8764900508210095),\n",
       " (0.8660446494349356,\n",
       "  1.1591726272442633,\n",
       "  -0.12495760117130933,\n",
       "  0.9902214587995143),\n",
       " (0.8891391734198674,\n",
       "  -0.1736739476359004,\n",
       "  -1.281972426831575,\n",
       "  0.7058929388532527),\n",
       " (0.912233697404799,\n",
       "  -0.05250607719224957,\n",
       "  -0.587763531435416,\n",
       "  0.7627586428425047),\n",
       " (0.9353282213897306,\n",
       "  0.6745011454696588,\n",
       "  0.3378483290927974,\n",
       "  0.8764900508210095),\n",
       " (0.9584227453746622,\n",
       "  0.7956690159133096,\n",
       "  -0.12495760117130933,\n",
       "  0.9902214587995143),\n",
       " (1.0508008413143886,\n",
       "  1.2803404976879151,\n",
       "  0.3378483290927974,\n",
       "  1.103952866778019),\n",
       " (1.1200844132691834,\n",
       "  0.5533332750260068,\n",
       "  -0.8191664965674684,\n",
       "  0.6490272348640005),\n",
       " (1.143178937254115,\n",
       "  1.0380047568006125,\n",
       "  0.5692512942248498,\n",
       "  1.103952866778019),\n",
       " (1.1662734612390466,\n",
       "  1.643844109018869,\n",
       "  0.3378483290927974,\n",
       "  1.274549978745776),\n",
       " (1.1893679852239785,\n",
       "  0.432165404582356,\n",
       "  -0.587763531435416,\n",
       "  0.5921615308747479),\n",
       " (1.21246250920891,\n",
       "  0.31099753413870407,\n",
       "  -0.12495760117130933,\n",
       "  0.6490272348640005),\n",
       " (1.2355570331938417,\n",
       "  0.6745011454696588,\n",
       "  -0.587763531435416,\n",
       "  1.0470871627887663),\n",
       " (1.2586515571787733,\n",
       "  1.643844109018869,\n",
       "  -0.12495760117130933,\n",
       "  1.1608185707672711),\n",
       " (1.3279351291335681,\n",
       "  0.6745011454696588,\n",
       "  -0.587763531435416,\n",
       "  1.0470871627887663),\n",
       " (1.3510296531184998,\n",
       "  0.5533332750260068,\n",
       "  -0.587763531435416,\n",
       "  0.7627586428425047),\n",
       " (1.4434077490582262,\n",
       "  0.6745011454696588,\n",
       "  0.10644536396074403,\n",
       "  0.9902214587995143),\n",
       " (1.4895967970280894,\n",
       "  1.2803404976879151,\n",
       "  0.10644536396074403,\n",
       "  0.9333557548102621),\n",
       " (1.512691321013021,\n",
       "  1.0380047568006125,\n",
       "  0.10644536396074403,\n",
       "  1.0470871627887663),\n",
       " (1.5357858449979527,\n",
       "  1.2803404976879151,\n",
       "  0.10644536396074403,\n",
       "  0.7627586428425047),\n",
       " (1.581974892967816,\n",
       "  1.1591726272442633,\n",
       "  0.3378483290927974,\n",
       "  1.2176842747565237),\n",
       " (1.6050694169527475,\n",
       "  1.0380047568006125,\n",
       "  0.5692512942248498,\n",
       "  1.103952866778019),\n",
       " (1.6281639409376791,\n",
       "  1.0380047568006125,\n",
       "  -0.12495760117130933,\n",
       "  0.8196243468317573),\n",
       " (1.6743529889075424,\n",
       "  0.7956690159133096,\n",
       "  -0.12495760117130933,\n",
       "  0.8196243468317573)]"
      ]
     },
     "execution_count": 26,
     "metadata": {},
     "output_type": "execute_result"
    }
   ],
   "source": [
    "coordinates"
   ]
  },
  {
   "cell_type": "code",
   "execution_count": 27,
   "id": "0a9daf68",
   "metadata": {},
   "outputs": [],
   "source": [
    "coordinates = np.array(coordinates)"
   ]
  },
  {
   "cell_type": "code",
   "execution_count": 28,
   "id": "07a21c4b",
   "metadata": {},
   "outputs": [
    {
     "data": {
      "text/plain": [
       "array([[-1.72054204, -0.90068117,  1.03205722, -1.3412724 ],\n",
       "       [-1.67435299, -1.38535265,  0.33784833, -1.39813811],\n",
       "       [-1.65125846, -1.50652052,  0.10644536, -1.2844067 ],\n",
       "       [-1.62816394, -1.02184904,  1.26346019, -1.3412724 ],\n",
       "       [-1.58197489, -1.50652052,  0.80065426, -1.3412724 ],\n",
       "       [-1.55888037, -1.02184904,  0.80065426, -1.2844067 ],\n",
       "       [-1.51269132, -1.14301691,  0.10644536, -1.2844067 ],\n",
       "       [-1.4895968 , -0.53717756,  1.49486315, -1.2844067 ],\n",
       "       [-1.46650227, -1.26418478,  0.80065426, -1.227541  ],\n",
       "       [-1.32793513, -0.90068117,  1.03205722, -1.3412724 ],\n",
       "       [-1.28174608, -0.90068117,  1.72626612, -1.2844067 ],\n",
       "       [-1.25865156, -0.53717756,  0.80065426, -1.17067529],\n",
       "       [-1.23555703, -0.90068117,  1.49486315, -1.2844067 ],\n",
       "       [-1.21246251, -1.50652052,  1.26346019, -1.56873522],\n",
       "       [-1.18936799, -0.90068117,  0.56925129, -1.17067529],\n",
       "       [-1.16627346, -1.26418478,  0.80065426, -1.05694388],\n",
       "       [-1.14317894, -1.02184904, -0.1249576 , -1.227541  ],\n",
       "       [-1.12008441, -1.02184904,  0.80065426, -1.227541  ],\n",
       "       [-1.09698989, -0.7795133 ,  1.03205722, -1.2844067 ],\n",
       "       [-1.07389537, -0.7795133 ,  0.80065426, -1.3412724 ],\n",
       "       [-1.05080084, -1.38535265,  0.33784833, -1.227541  ],\n",
       "       [-1.02770632, -1.26418478,  0.10644536, -1.227541  ],\n",
       "       [-1.00461179, -0.53717756,  0.80065426, -1.2844067 ],\n",
       "       [-0.93532822, -1.14301691,  0.10644536, -1.2844067 ],\n",
       "       [-0.9122337 , -1.02184904,  0.33784833, -1.45500381],\n",
       "       [-0.88913917, -0.41600969,  1.03205722, -1.39813811],\n",
       "       [-0.86604465, -1.14301691,  0.10644536, -1.2844067 ],\n",
       "       [-0.8198556 , -0.90068117,  0.80065426, -1.2844067 ],\n",
       "       [-0.79676108, -1.02184904,  1.03205722, -1.39813811],\n",
       "       [-0.75057203, -1.74885626,  0.33784833, -1.39813811],\n",
       "       [-0.72747751, -1.02184904,  1.03205722, -1.227541  ],\n",
       "       [-0.70438298, -0.90068117,  1.72626612, -1.05694388],\n",
       "       [-0.65819393, -0.90068117,  1.72626612, -1.227541  ],\n",
       "       [-0.63509941, -1.50652052,  0.33784833, -1.3412724 ],\n",
       "       [-0.61200489, -0.65834543,  1.49486315, -1.2844067 ],\n",
       "       [-0.58891036, -1.02184904,  0.56925129, -1.3412724 ],\n",
       "       [-0.45034322, -0.17367395, -0.58776353,  0.42156442],\n",
       "       [-0.35796512, -0.7795133 , -0.8191665 ,  0.08037019],\n",
       "       [-0.31177607,  0.06866179, -0.1249576 ,  0.25096731],\n",
       "       [-0.26558703,  0.31099753, -0.35636057,  0.53529583],\n",
       "       [-0.2424925 , -0.29484182, -0.35636057, -0.09022692],\n",
       "       [-0.19630345, -0.29484182, -0.1249576 ,  0.42156442],\n",
       "       [-0.17320893, -0.05250608, -0.8191665 ,  0.1941016 ],\n",
       "       [-0.12701988, -0.29484182, -1.28197243,  0.08037019],\n",
       "       [-0.08083083,  0.31099753, -0.58776353,  0.1372359 ],\n",
       "       [-0.05773631,  0.55333328, -1.28197243,  0.64902723],\n",
       "       [-0.03464179,  0.31099753, -0.58776353,  0.53529583],\n",
       "       [-0.01154726,  0.67450115, -0.35636057,  0.30783301],\n",
       "       [ 0.05773631,  1.03800476, -0.1249576 ,  0.70589294],\n",
       "       [ 0.08083083,  0.18982966, -0.35636057,  0.42156442],\n",
       "       [ 0.10392536, -0.17367395, -1.05056946, -0.14709262],\n",
       "       [ 0.12701988, -0.41600969, -1.51337539,  0.02350449],\n",
       "       [ 0.15011441, -0.41600969, -1.51337539, -0.03336121],\n",
       "       [ 0.17320893, -0.05250608, -0.8191665 ,  0.08037019],\n",
       "       [ 0.19630345,  0.18982966, -0.8191665 ,  0.76275864],\n",
       "       [ 0.21939798, -0.53717756, -0.1249576 ,  0.42156442],\n",
       "       [ 0.26558703,  1.03800476,  0.10644536,  0.53529583],\n",
       "       [ 0.31177607, -0.29484182, -0.1249576 ,  0.1941016 ],\n",
       "       [ 0.3348706 , -0.41600969, -1.28197243,  0.1372359 ],\n",
       "       [ 0.35796512, -0.41600969, -1.05056946,  0.36469871],\n",
       "       [ 0.38105965,  0.31099753, -0.1249576 ,  0.47843012],\n",
       "       [ 0.40415417, -0.05250608, -1.05056946,  0.1372359 ],\n",
       "       [ 0.45034322, -0.29484182, -0.8191665 ,  0.25096731],\n",
       "       [ 0.47343774, -0.17367395, -0.1249576 ,  0.25096731],\n",
       "       [ 0.49653227, -0.17367395, -0.35636057,  0.25096731],\n",
       "       [ 0.51962679,  0.4321654 , -0.35636057,  0.30783301],\n",
       "       [ 0.56581584, -0.17367395, -0.58776353,  0.1941016 ],\n",
       "       [ 0.58891036,  0.55333328,  0.56925129,  1.27454998],\n",
       "       [ 0.61200489, -0.05250608, -0.8191665 ,  0.76275864],\n",
       "       [ 0.63509941,  1.52267624, -0.1249576 ,  1.21768427],\n",
       "       [ 0.65819393,  0.55333328, -0.35636057,  1.04708716],\n",
       "       [ 0.68128846,  0.79566902, -0.1249576 ,  1.16081857],\n",
       "       [ 0.75057203,  1.76501198, -0.35636057,  1.44514709],\n",
       "       [ 0.8198556 ,  0.79566902,  0.33784833,  0.76275864],\n",
       "       [ 0.84295013,  0.67450115, -0.8191665 ,  0.87649005],\n",
       "       [ 0.86604465,  1.15917263, -0.1249576 ,  0.99022146],\n",
       "       [ 0.88913917, -0.17367395, -1.28197243,  0.70589294],\n",
       "       [ 0.9122337 , -0.05250608, -0.58776353,  0.76275864],\n",
       "       [ 0.93532822,  0.67450115,  0.33784833,  0.87649005],\n",
       "       [ 0.95842275,  0.79566902, -0.1249576 ,  0.99022146],\n",
       "       [ 1.05080084,  1.2803405 ,  0.33784833,  1.10395287],\n",
       "       [ 1.12008441,  0.55333328, -0.8191665 ,  0.64902723],\n",
       "       [ 1.14317894,  1.03800476,  0.56925129,  1.10395287],\n",
       "       [ 1.16627346,  1.64384411,  0.33784833,  1.27454998],\n",
       "       [ 1.18936799,  0.4321654 , -0.58776353,  0.59216153],\n",
       "       [ 1.21246251,  0.31099753, -0.1249576 ,  0.64902723],\n",
       "       [ 1.23555703,  0.67450115, -0.58776353,  1.04708716],\n",
       "       [ 1.25865156,  1.64384411, -0.1249576 ,  1.16081857],\n",
       "       [ 1.32793513,  0.67450115, -0.58776353,  1.04708716],\n",
       "       [ 1.35102965,  0.55333328, -0.58776353,  0.76275864],\n",
       "       [ 1.44340775,  0.67450115,  0.10644536,  0.99022146],\n",
       "       [ 1.4895968 ,  1.2803405 ,  0.10644536,  0.93335575],\n",
       "       [ 1.51269132,  1.03800476,  0.10644536,  1.04708716],\n",
       "       [ 1.53578584,  1.2803405 ,  0.10644536,  0.76275864],\n",
       "       [ 1.58197489,  1.15917263,  0.33784833,  1.21768427],\n",
       "       [ 1.60506942,  1.03800476,  0.56925129,  1.10395287],\n",
       "       [ 1.62816394,  1.03800476, -0.1249576 ,  0.81962435],\n",
       "       [ 1.67435299,  0.79566902, -0.1249576 ,  0.81962435]])"
      ]
     },
     "execution_count": 28,
     "metadata": {},
     "output_type": "execute_result"
    }
   ],
   "source": [
    "coordinates"
   ]
  },
  {
   "cell_type": "code",
   "execution_count": 32,
   "id": "c0483b3c",
   "metadata": {},
   "outputs": [],
   "source": [
    "def kmeans(X, k, max_iter=100):\n",
    "    \"\"\"\n",
    "    K-Means clustering function.\n",
    "    Parameters:\n",
    "    - X: array-like, shape (n_samples, n_features)\n",
    "      Input data\n",
    "    - k: int, Number of clusters\n",
    "    - max_iter: int, Maximum number of iterations\n",
    "    Returns:\n",
    "    - clusters: array, shape (n_samples,)\n",
    "      Cluster assignments for each point\n",
    "    - centroids: array, shape (k, n_features)\n",
    "      Coordinates of the k cluster centroids\n",
    "    \"\"\"\n",
    "    \n",
    "    # Initialize centroids randomly\n",
    "    centroids = X[np.random.choice(X.shape[0], k, replace=False)]\n",
    "    for i in range(max_iter):\n",
    "        # Compute distances between each data point and the centroids\n",
    "        distances = np.array([np.sqrt(np.sum((X - centroid)**2, axis=1)) for centroid in centroids])\n",
    "        # Assign each data point to the closest centroid\n",
    "        clusters = np.argmin(distances, axis=0)\n",
    "        # Update centroids based on the data points assigned to them\n",
    "        new_centroids = np.array([X[clusters == j].mean(axis=0) for j in range(k)])\n",
    "        # Check for convergence\n",
    "        if np.all(centroids == new_centroids):\n",
    "            break\n",
    "        centroids = new_centroids\n",
    "    return clusters, centroids\n",
    "\n",
    "X = coordinates\n",
    "clusters, centroids = kmeans(X, 3)"
   ]
  },
  {
   "cell_type": "code",
   "execution_count": 33,
   "id": "e44fdbad",
   "metadata": {},
   "outputs": [
    {
     "data": {
      "text/plain": [
       "array([[ 1.08621244,  0.94914832, -0.06325014,  0.96557965],\n",
       "       [ 0.17032211, -0.07522505, -0.68900233,  0.30783301],\n",
       "       [-1.12136744, -1.03867791,  0.80065426, -1.29072511]])"
      ]
     },
     "execution_count": 33,
     "metadata": {},
     "output_type": "execute_result"
    }
   ],
   "source": [
    "centroids"
   ]
  },
  {
   "cell_type": "code",
   "execution_count": 34,
   "id": "9b62d946",
   "metadata": {},
   "outputs": [
    {
     "data": {
      "text/plain": [
       "array([2, 2, 2, 2, 2, 2, 2, 2, 2, 2, 2, 2, 2, 2, 2, 2, 2, 2, 2, 2, 2, 2,\n",
       "       2, 2, 2, 2, 2, 2, 2, 2, 2, 2, 2, 2, 2, 2, 1, 1, 1, 1, 1, 1, 1, 1,\n",
       "       1, 1, 1, 1, 0, 1, 1, 1, 1, 1, 1, 1, 0, 1, 1, 1, 1, 1, 1, 1, 1, 1,\n",
       "       1, 0, 1, 0, 0, 0, 0, 0, 0, 0, 1, 1, 0, 0, 0, 0, 0, 0, 0, 0, 0, 0,\n",
       "       0, 0, 0, 0, 0, 0, 0, 0, 0, 0], dtype=int64)"
      ]
     },
     "execution_count": 34,
     "metadata": {},
     "output_type": "execute_result"
    }
   ],
   "source": [
    "clusters"
   ]
  },
  {
   "cell_type": "code",
   "execution_count": 35,
   "id": "5870cf38",
   "metadata": {},
   "outputs": [
    {
     "name": "stdout",
     "output_type": "stream",
     "text": [
      "Silhouette Score: 0.5432325420083957\n"
     ]
    }
   ],
   "source": [
    "score = silhouette_score(coordinates, clusters)\n",
    "print(\"Silhouette Score:\", score)"
   ]
  },
  {
   "cell_type": "code",
   "execution_count": null,
   "id": "424fe362",
   "metadata": {},
   "outputs": [],
   "source": [
    "# # Calculate the accuracy\n",
    "# accuracy = len(np.where(labels == pred_new)) / len(coodinates)\n",
    "# print(accuracy)"
   ]
  },
  {
   "cell_type": "code",
   "execution_count": null,
   "id": "4ba9ed54",
   "metadata": {},
   "outputs": [],
   "source": []
  },
  {
   "cell_type": "code",
   "execution_count": 63,
   "id": "e675fba4",
   "metadata": {},
   "outputs": [
    {
     "name": "stdout",
     "output_type": "stream",
     "text": [
      "3.9.12\n"
     ]
    }
   ],
   "source": [
    "from platform import python_version\n",
    "\n",
    "print(python_version())"
   ]
  },
  {
   "cell_type": "code",
   "execution_count": null,
   "id": "58e32fe6",
   "metadata": {},
   "outputs": [],
   "source": [
    "robust homogeneous clearly indentifiable cluster creation and approaches"
   ]
  }
 ],
 "metadata": {
  "kernelspec": {
   "display_name": "Python 3 (ipykernel)",
   "language": "python",
   "name": "python3"
  },
  "language_info": {
   "codemirror_mode": {
    "name": "ipython",
    "version": 3
   },
   "file_extension": ".py",
   "mimetype": "text/x-python",
   "name": "python",
   "nbconvert_exporter": "python",
   "pygments_lexer": "ipython3",
   "version": "3.9.12"
  }
 },
 "nbformat": 4,
 "nbformat_minor": 5
}
